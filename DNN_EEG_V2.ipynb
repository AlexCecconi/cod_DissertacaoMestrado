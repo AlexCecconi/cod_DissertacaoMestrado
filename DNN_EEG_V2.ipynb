{
 "cells": [
  {
   "cell_type": "code",
   "execution_count": null,
   "id": "e48a089e",
   "metadata": {},
   "outputs": [],
   "source": [
    "#Utilitarios\n",
    "from sklearn.model_selection import train_test_split\n",
    "from mne.externals.pymatreader import read_mat\n",
    "from sklearn.preprocessing import MaxAbsScaler\n",
    "from sklearn.decomposition import FastICA\n",
    "from sklearn import preprocessing\n",
    "import matplotlib.pyplot as plt\n",
    "import pandas as pd\n",
    "import numpy as np\n",
    "import datetime\n",
    "import os\n",
    "\n",
    "#Rede Neural\n",
    "from tensorflow.keras.utils import to_categorical\n",
    "from keras.layers import Input, Flatten, Dense, Conv2D\n",
    "import tensorflow as tf\n",
    "from keras.models import Model, Sequential\n",
    "from keras.layers import Dropout, BatchNormalization \n",
    "import keras_tuner as kt\n",
    "from tensorflow import keras\n",
    "os.environ['TENSORBOARD_BINARY'] = '/path/to/envs/my_env/bin/tensorboard'\n",
    "%load_ext tensorboard"
   ]
  },
  {
   "cell_type": "code",
   "execution_count": null,
   "id": "2c6b82ee",
   "metadata": {},
   "outputs": [],
   "source": [
    "subject1_01 = read_mat(r'C:\\Users\\Alex\\Desktop\\EEG\\subject1_mat\\train_subject1_raw01.mat')\n",
    "subject1_02 = read_mat(r'C:\\Users\\Alex\\Desktop\\EEG\\subject1_mat\\train_subject1_raw02.mat')\n",
    "subject1_03 = read_mat(r'C:\\Users\\Alex\\Desktop\\EEG\\subject1_mat\\train_subject1_raw03.mat')\n",
    "\n",
    "subject2_01 = read_mat(r'C:\\Users\\Alex\\Desktop\\EEG\\subject2_mat\\train_subject2_raw01.mat')\n",
    "subject2_02 = read_mat(r'C:\\Users\\Alex\\Desktop\\EEG\\subject2_mat\\train_subject2_raw02.mat')\n",
    "subject2_03 = read_mat(r'C:\\Users\\Alex\\Desktop\\EEG\\subject2_mat\\train_subject2_raw03.mat')\n",
    "\n",
    "subject3_01 = read_mat(r'C:\\Users\\Alex\\Desktop\\EEG\\subject3_mat\\train_subject3_raw01.mat')\n",
    "subject3_02 = read_mat(r'C:\\Users\\Alex\\Desktop\\EEG\\subject3_mat\\train_subject3_raw02.mat')\n",
    "subject3_03 = read_mat(r'C:\\Users\\Alex\\Desktop\\EEG\\subject3_mat\\train_subject3_raw03.mat')"
   ]
  },
  {
   "cell_type": "code",
   "execution_count": null,
   "id": "17d3f1bd",
   "metadata": {},
   "outputs": [],
   "source": [
    "subject3_03.keys()"
   ]
  },
  {
   "cell_type": "code",
   "execution_count": null,
   "id": "bf9d9c34",
   "metadata": {},
   "outputs": [],
   "source": [
    "#subject3_03['nfo']"
   ]
  },
  {
   "cell_type": "code",
   "execution_count": null,
   "id": "82cc32ec",
   "metadata": {},
   "outputs": [],
   "source": [
    "subject_X = np.concatenate( (subject1_01['X'], subject1_02['X'], subject1_03['X'], subject2_01['X'], subject2_02['X'], subject2_03['X'], subject3_01['X'], subject3_02['X'], subject3_03['X'] ), axis = 0)"
   ]
  },
  {
   "cell_type": "code",
   "execution_count": null,
   "id": "62da9927",
   "metadata": {},
   "outputs": [],
   "source": []
  },
  {
   "cell_type": "code",
   "execution_count": null,
   "id": "7c6d66d7",
   "metadata": {},
   "outputs": [],
   "source": [
    "subject_Y = np.concatenate( (subject1_01['Y'], subject1_02['Y'], subject1_03['Y'], subject2_01['Y'], subject2_02['Y'], subject2_03['Y'], subject3_01['Y'], subject3_02['Y'], subject3_03['Y'] ), axis = 0)\n",
    "subject_Y.shape"
   ]
  },
  {
   "cell_type": "code",
   "execution_count": null,
   "id": "bbb7a5ea",
   "metadata": {},
   "outputs": [],
   "source": [
    "#subject_X = MaxAbsScaler().fit_transform( subject_X )"
   ]
  },
  {
   "cell_type": "code",
   "execution_count": null,
   "id": "85c9ef6a",
   "metadata": {},
   "outputs": [],
   "source": [
    "#mat_data['nfo']['ypos']\n",
    "#pd.DataFrame( mat_data['X'] ).head()"
   ]
  },
  {
   "cell_type": "code",
   "execution_count": null,
   "id": "9890ae43",
   "metadata": {},
   "outputs": [],
   "source": [
    "# Pre-processamento dos dados\n",
    "ICA = FastICA()\n",
    "\n",
    "subject_X = ICA.fit_transform(subject_X)"
   ]
  },
  {
   "cell_type": "code",
   "execution_count": null,
   "id": "3b57e7bc",
   "metadata": {},
   "outputs": [],
   "source": [
    "Y = np.take( subject_Y , np.arange(0, len( subject_X ), 512) , axis=None) "
   ]
  },
  {
   "cell_type": "code",
   "execution_count": null,
   "id": "a3c43d0b",
   "metadata": {},
   "outputs": [],
   "source": [
    "X = np.asarray(  np.split( np.transpose( subject_X ), 2141, axis = 1 ))\n",
    "X.shape"
   ]
  },
  {
   "cell_type": "code",
   "execution_count": null,
   "id": "b5533dad",
   "metadata": {},
   "outputs": [],
   "source": [
    "x_train, x_test, y_train, y_test = train_test_split( X, Y, test_size=0.20, random_state=42, stratify = Y) "
   ]
  },
  {
   "cell_type": "code",
   "execution_count": null,
   "id": "f7ee31c2",
   "metadata": {},
   "outputs": [],
   "source": [
    "NUM_CLASSES = 3\n",
    "\n",
    "le = preprocessing.LabelEncoder()\n",
    "y_train = le.fit_transform(y_train)\n",
    "#y_val = le.fit_transform(y_val)\n",
    "y_test = le.fit_transform(y_test)\n",
    "\n",
    "#Faz One-Hot Encoding\n",
    "y_train = to_categorical(y_train, NUM_CLASSES)\n",
    "#y_val = to_categorical(y_val, NUM_CLASSES)\n",
    "y_test = to_categorical(y_test, NUM_CLASSES)"
   ]
  },
  {
   "cell_type": "markdown",
   "id": "ff1237b1",
   "metadata": {},
   "source": [
    "#Hiperparameters [Concorrente]\n",
    "alpha = 10^-3 | beta_01 = 0.9 | beta_02 = 0.99 | Camadas = 5 : 512 . 256 . 128 . 64 . 3 | Active = ReLU | Output = Softmax \n",
    "Loss Function: categorical cross-entropy | Otimizador: ADAM    "
   ]
  },
  {
   "cell_type": "code",
   "execution_count": null,
   "id": "abf1a876",
   "metadata": {},
   "outputs": [],
   "source": [
    "#Precision For each class \n",
    "Precision0 = tf.keras.metrics.Precision(class_id=0)\n",
    "Precision1 = tf.keras.metrics.Precision(class_id=1)\n",
    "Precision2 = tf.keras.metrics.Precision(class_id=2)\n",
    "\n",
    "\n",
    "#Recall For each class\n",
    "Recall0 = tf.keras.metrics.Recall( class_id=0 )\n",
    "Recall1 = tf.keras.metrics.Recall( class_id=1 )\n",
    "Recall2 = tf.keras.metrics.Recall( class_id=2 )\n",
    "\n",
    "Metricas = ['accuracy', Precision0, Precision1, Precision2, Recall0, Recall1, Recall2]"
   ]
  },
  {
   "cell_type": "code",
   "execution_count": null,
   "id": "3e64ed82",
   "metadata": {},
   "outputs": [],
   "source": [
    "def build_model(hp):\n",
    "    model = keras.Sequential()\n",
    "    model.add( Flatten(input_shape=(32, 512)) ) #Entrada\n",
    "    \n",
    "    model.add( Dense( 512, activation='relu',   name='dense_1') ) #Camada 01\n",
    "    #model.add( Dropout( hp.Choice('Dropout01', [0.85 ]) ) )\n",
    "    \n",
    "    model.add( Dense( 256, activation='relu',   name='dense_2') ) #Camada 02\n",
    "    #model.add( Dropout( hp.Choice('Dropout02', [ 0.8 ]) ) )\n",
    "    \n",
    "    model.add( Dense( 128, activation='relu',   name='dense_2') ) #Camada 02\n",
    "    #model.add( Dropout( hp.Choice('Dropout03', [0.2]) ) )\n",
    "    \n",
    "    model.add( Dense( 64, activation='relu',   name='dense_2') ) #Camada 02\n",
    "    #model.add( Dropout( hp.Choice('Dropout04', [ 0.1]) ) ) \n",
    "    \n",
    "    model.add( Dense(3, activation='softmax') ) #Saída  \n",
    "    model.compile(loss='categorical_crossentropy', optimizer='Adam', metrics=Metricas)\n",
    "    return model"
   ]
  },
  {
   "cell_type": "code",
   "execution_count": null,
   "id": "1ff7547c",
   "metadata": {},
   "outputs": [],
   "source": [
    "tuner = kt.RandomSearch(\n",
    "    build_model,\n",
    "    objective='val_accuracy',\n",
    "    max_trials=9999999,\n",
    "    overwrite = True,\n",
    "#    directory=\"./tf_board/tb_logs\" + datetime.datetime.now().strftime(\"%Y%m%d-%H%M%S\") \n",
    ")"
   ]
  },
  {
   "cell_type": "code",
   "execution_count": null,
   "id": "92e13250",
   "metadata": {},
   "outputs": [],
   "source": [
    "tuner.search_space_summary(extended=True)"
   ]
  },
  {
   "cell_type": "code",
   "execution_count": null,
   "id": "cd4a5787",
   "metadata": {},
   "outputs": [],
   "source": [
    "# tf.keras.backend.clear_session()\n",
    "# %store    \n",
    "# %store -z | relu, sigmoid, softmax, softplus, softsign, tanh, selu, elu, exponential   "
   ]
  },
  {
   "cell_type": "code",
   "execution_count": null,
   "id": "5c70a9c6",
   "metadata": {
    "scrolled": true
   },
   "outputs": [],
   "source": [
    "tuner.search(\n",
    "    x_train, \n",
    "    y_train, \n",
    "    epochs=100, \n",
    "    batch_size = 128,\n",
    "    shuffle = True,\n",
    "    validation_split = 0.35,\n",
    "    #validation_data=(x_val, y_val),\n",
    "    verbose = 1,\n",
    "    #callbacks=[keras.callbacks.TensorBoard( log_dir = \"./tf_board/tb_logs\", histogram_freq=1 )] \n",
    ")"
   ]
  },
  {
   "cell_type": "code",
   "execution_count": null,
   "id": "fe6e60bc",
   "metadata": {},
   "outputs": [],
   "source": [
    "#Colocar estes comandos no prompt\n",
    "\n",
    "#!cd c:\\users\\alex\\appdata\\roaming\\python\\python39\\site-packages\\tensorboard\n",
    "#!python main.py --logdir=C:\\Users\\Alex\\tf_board\\tb_logs\n",
    "#http://localhost:6006/\n",
    "\n",
    "#[esse não funciona]: %tensorboard --logdir C:\\Users\\Alex\\tf_board\\"
   ]
  },
  {
   "cell_type": "code",
   "execution_count": null,
   "id": "5725e073",
   "metadata": {
    "scrolled": true
   },
   "outputs": [],
   "source": [
    "tuner.results_summary(num_trials=9999999999)"
   ]
  },
  {
   "cell_type": "code",
   "execution_count": null,
   "id": "8269e505",
   "metadata": {},
   "outputs": [],
   "source": [
    "best_hp = tuner.get_best_hyperparameters()[0]\n",
    "Modelo_Final = tuner.hypermodel.build(best_hp)"
   ]
  },
  {
   "cell_type": "code",
   "execution_count": null,
   "id": "26dd8314",
   "metadata": {
    "scrolled": true
   },
   "outputs": [],
   "source": [
    "Modelo_Final.fit(x_train\n",
    " , y_train\n",
    " , batch_size = 128\n",
    " , epochs = 100\n",
    " , shuffle = True\n",
    " )"
   ]
  },
  {
   "cell_type": "code",
   "execution_count": null,
   "id": "3edfc5bc",
   "metadata": {},
   "outputs": [],
   "source": [
    "#model.summary()"
   ]
  },
  {
   "cell_type": "code",
   "execution_count": null,
   "id": "16403b65",
   "metadata": {},
   "outputs": [],
   "source": [
    "#Avaliando o modelo\n",
    "Modelo_Final.evaluate(x_test, y_test)"
   ]
  },
  {
   "cell_type": "code",
   "execution_count": null,
   "id": "b75cac87",
   "metadata": {},
   "outputs": [],
   "source": []
  },
  {
   "cell_type": "code",
   "execution_count": null,
   "id": "888fabed",
   "metadata": {},
   "outputs": [],
   "source": [
    " "
   ]
  },
  {
   "cell_type": "code",
   "execution_count": null,
   "id": "833e4914",
   "metadata": {},
   "outputs": [],
   "source": []
  },
  {
   "cell_type": "code",
   "execution_count": null,
   "id": "8a9adcee",
   "metadata": {},
   "outputs": [],
   "source": []
  },
  {
   "cell_type": "code",
   "execution_count": null,
   "id": "cb035c1d",
   "metadata": {},
   "outputs": [],
   "source": []
  },
  {
   "cell_type": "markdown",
   "id": "05e8acd8",
   "metadata": {},
   "source": [
    "# Fim"
   ]
  }
 ],
 "metadata": {
  "kernelspec": {
   "display_name": "Python 3",
   "language": "python",
   "name": "python3"
  },
  "language_info": {
   "codemirror_mode": {
    "name": "ipython",
    "version": 3
   },
   "file_extension": ".py",
   "mimetype": "text/x-python",
   "name": "python",
   "nbconvert_exporter": "python",
   "pygments_lexer": "ipython3",
   "version": "3.9.6"
  }
 },
 "nbformat": 4,
 "nbformat_minor": 5
}
